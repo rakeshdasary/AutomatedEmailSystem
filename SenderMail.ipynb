{
  "cells": [
    {
      "cell_type": "code",
      "execution_count": 1,
      "metadata": {
        "colab": {
          "base_uri": "https://localhost:8080/"
        },
        "id": "ywpv_btnJjpS",
        "outputId": "84a4ad0b-9079-4bb5-a2b1-61c14b41d683"
      },
      "outputs": [
        {
          "name": "stdout",
          "output_type": "stream",
          "text": [
            "Requirement already satisfied: pyspark in /Library/Frameworks/Python.framework/Versions/3.11/lib/python3.11/site-packages (3.5.0)\n",
            "Requirement already satisfied: py4j==0.10.9.7 in /Library/Frameworks/Python.framework/Versions/3.11/lib/python3.11/site-packages (from pyspark) (0.10.9.7)\n",
            "\n",
            "\u001b[1m[\u001b[0m\u001b[34;49mnotice\u001b[0m\u001b[1;39;49m]\u001b[0m\u001b[39;49m A new release of pip is available: \u001b[0m\u001b[31;49m23.1.2\u001b[0m\u001b[39;49m -> \u001b[0m\u001b[32;49m23.3.1\u001b[0m\n",
            "\u001b[1m[\u001b[0m\u001b[34;49mnotice\u001b[0m\u001b[1;39;49m]\u001b[0m\u001b[39;49m To update, run: \u001b[0m\u001b[32;49mpip3 install --upgrade pip\u001b[0m\n",
            "Note: you may need to restart the kernel to use updated packages.\n"
          ]
        }
      ],
      "source": [
        "pip install pyspark"
      ]
    },
    {
      "cell_type": "code",
      "execution_count": 2,
      "metadata": {
        "id": "Tp2xlmOJl7Lv"
      },
      "outputs": [],
      "source": [
        "# iterate number for 4 for random email and verification for emails already sent"
      ]
    },
    {
      "cell_type": "code",
      "execution_count": 3,
      "metadata": {
        "colab": {
          "base_uri": "https://localhost:8080/"
        },
        "id": "06FB6RthoqQZ",
        "outputId": "1ccf83e5-20b4-40f4-863c-98bcbf1f5ff0"
      },
      "outputs": [
        {
          "ename": "SMTPServerDisconnected",
          "evalue": "Connection unexpectedly closed",
          "output_type": "error",
          "traceback": [
            "\u001b[0;31m---------------------------------------------------------------------------\u001b[0m",
            "\u001b[0;31mSMTPServerDisconnected\u001b[0m                    Traceback (most recent call last)",
            "Cell \u001b[0;32mIn[3], line 31\u001b[0m\n\u001b[1;32m     29\u001b[0m server \u001b[39m=\u001b[39m smtplib\u001b[39m.\u001b[39mSMTP(\u001b[39m'\u001b[39m\u001b[39msmtp.gmail.com\u001b[39m\u001b[39m'\u001b[39m, \u001b[39m587\u001b[39m)\n\u001b[1;32m     30\u001b[0m server\u001b[39m.\u001b[39mstarttls()\n\u001b[0;32m---> 31\u001b[0m server\u001b[39m.\u001b[39;49mlogin(username, password)\n\u001b[1;32m     33\u001b[0m \u001b[39m# Read the CSV file and extract email addresses from the second column\u001b[39;00m\n\u001b[1;32m     34\u001b[0m email_addresses \u001b[39m=\u001b[39m []\n",
            "File \u001b[0;32m/Library/Frameworks/Python.framework/Versions/3.11/lib/python3.11/smtplib.py:739\u001b[0m, in \u001b[0;36mSMTP.login\u001b[0;34m(self, user, password, initial_response_ok)\u001b[0m\n\u001b[1;32m    737\u001b[0m method_name \u001b[39m=\u001b[39m \u001b[39m'\u001b[39m\u001b[39mauth_\u001b[39m\u001b[39m'\u001b[39m \u001b[39m+\u001b[39m authmethod\u001b[39m.\u001b[39mlower()\u001b[39m.\u001b[39mreplace(\u001b[39m'\u001b[39m\u001b[39m-\u001b[39m\u001b[39m'\u001b[39m, \u001b[39m'\u001b[39m\u001b[39m_\u001b[39m\u001b[39m'\u001b[39m)\n\u001b[1;32m    738\u001b[0m \u001b[39mtry\u001b[39;00m:\n\u001b[0;32m--> 739\u001b[0m     (code, resp) \u001b[39m=\u001b[39m \u001b[39mself\u001b[39;49m\u001b[39m.\u001b[39;49mauth(\n\u001b[1;32m    740\u001b[0m         authmethod, \u001b[39mgetattr\u001b[39;49m(\u001b[39mself\u001b[39;49m, method_name),\n\u001b[1;32m    741\u001b[0m         initial_response_ok\u001b[39m=\u001b[39;49minitial_response_ok)\n\u001b[1;32m    742\u001b[0m     \u001b[39m# 235 == 'Authentication successful'\u001b[39;00m\n\u001b[1;32m    743\u001b[0m     \u001b[39m# 503 == 'Error: already authenticated'\u001b[39;00m\n\u001b[1;32m    744\u001b[0m     \u001b[39mif\u001b[39;00m code \u001b[39min\u001b[39;00m (\u001b[39m235\u001b[39m, \u001b[39m503\u001b[39m):\n",
            "File \u001b[0;32m/Library/Frameworks/Python.framework/Versions/3.11/lib/python3.11/smtplib.py:642\u001b[0m, in \u001b[0;36mSMTP.auth\u001b[0;34m(self, mechanism, authobject, initial_response_ok)\u001b[0m\n\u001b[1;32m    640\u001b[0m \u001b[39mif\u001b[39;00m initial_response \u001b[39mis\u001b[39;00m \u001b[39mnot\u001b[39;00m \u001b[39mNone\u001b[39;00m:\n\u001b[1;32m    641\u001b[0m     response \u001b[39m=\u001b[39m encode_base64(initial_response\u001b[39m.\u001b[39mencode(\u001b[39m'\u001b[39m\u001b[39mascii\u001b[39m\u001b[39m'\u001b[39m), eol\u001b[39m=\u001b[39m\u001b[39m'\u001b[39m\u001b[39m'\u001b[39m)\n\u001b[0;32m--> 642\u001b[0m     (code, resp) \u001b[39m=\u001b[39m \u001b[39mself\u001b[39;49m\u001b[39m.\u001b[39;49mdocmd(\u001b[39m\"\u001b[39;49m\u001b[39mAUTH\u001b[39;49m\u001b[39m\"\u001b[39;49m, mechanism \u001b[39m+\u001b[39;49m \u001b[39m\"\u001b[39;49m\u001b[39m \u001b[39;49m\u001b[39m\"\u001b[39;49m \u001b[39m+\u001b[39;49m response)\n\u001b[1;32m    643\u001b[0m     \u001b[39mself\u001b[39m\u001b[39m.\u001b[39m_auth_challenge_count \u001b[39m=\u001b[39m \u001b[39m1\u001b[39m\n\u001b[1;32m    644\u001b[0m \u001b[39melse\u001b[39;00m:\n",
            "File \u001b[0;32m/Library/Frameworks/Python.framework/Versions/3.11/lib/python3.11/smtplib.py:432\u001b[0m, in \u001b[0;36mSMTP.docmd\u001b[0;34m(self, cmd, args)\u001b[0m\n\u001b[1;32m    430\u001b[0m \u001b[39m\u001b[39m\u001b[39m\"\"\"Send a command, and return its response code.\"\"\"\u001b[39;00m\n\u001b[1;32m    431\u001b[0m \u001b[39mself\u001b[39m\u001b[39m.\u001b[39mputcmd(cmd, args)\n\u001b[0;32m--> 432\u001b[0m \u001b[39mreturn\u001b[39;00m \u001b[39mself\u001b[39;49m\u001b[39m.\u001b[39;49mgetreply()\n",
            "File \u001b[0;32m/Library/Frameworks/Python.framework/Versions/3.11/lib/python3.11/smtplib.py:405\u001b[0m, in \u001b[0;36mSMTP.getreply\u001b[0;34m(self)\u001b[0m\n\u001b[1;32m    403\u001b[0m \u001b[39mif\u001b[39;00m \u001b[39mnot\u001b[39;00m line:\n\u001b[1;32m    404\u001b[0m     \u001b[39mself\u001b[39m\u001b[39m.\u001b[39mclose()\n\u001b[0;32m--> 405\u001b[0m     \u001b[39mraise\u001b[39;00m SMTPServerDisconnected(\u001b[39m\"\u001b[39m\u001b[39mConnection unexpectedly closed\u001b[39m\u001b[39m\"\u001b[39m)\n\u001b[1;32m    406\u001b[0m \u001b[39mif\u001b[39;00m \u001b[39mself\u001b[39m\u001b[39m.\u001b[39mdebuglevel \u001b[39m>\u001b[39m \u001b[39m0\u001b[39m:\n\u001b[1;32m    407\u001b[0m     \u001b[39mself\u001b[39m\u001b[39m.\u001b[39m_print_debug(\u001b[39m'\u001b[39m\u001b[39mreply:\u001b[39m\u001b[39m'\u001b[39m, \u001b[39mrepr\u001b[39m(line))\n",
            "\u001b[0;31mSMTPServerDisconnected\u001b[0m: Connection unexpectedly closed"
          ]
        }
      ],
      "source": [
        "import csv\n",
        "import smtplib\n",
        "import random\n",
        "from email.mime.multipart import MIMEMultipart\n",
        "from email.mime.text import MIMEText\n",
        "from email.mime.base import MIMEBase\n",
        "from email import encoders\n",
        "\n",
        "# Your Outlook account credentials\n",
        "username = 'username@gmail.com'\n",
        "password = 'passkey'\n",
        "\n",
        "# Email content\n",
        "subject = \"Updated Resume - Data Engineer\"\n",
        "body = \"\"\"I hope you are doing well.\n",
        "Thanks for reaching out to me!! \\n\n",
        "\n",
        "I am interested in this position, and want to know more about this role, share my expertise and check if my experiences align with the job role.\n",
        "As of now, I am on H1b, and I would like to work for Contract-to-Hire(C2H) or Corp-to-Corp(C2C) positions.\n",
        "Please reach out to me at (415) 723-0046 for a quick discussion. \\n\n",
        "\n",
        "Attached is my Resume for your reference.\n",
        "Looking forward to hearing from you. \\n\n",
        "\n",
        "Best,\n",
        "Rakesh Dasary.\"\"\"\n",
        "\n",
        "# Set up the SMTP server\n",
        "server = smtplib.SMTP('smtp.gmail.com', 587)\n",
        "server.starttls()\n",
        "server.login(username, password)\n",
        "\n",
        "# Read the CSV file and extract email addresses from the second column\n",
        "email_addresses = []\n",
        "\n",
        "with open('/content/Book1.csv', 'r') as file:\n",
        "    reader = csv.reader(file)\n",
        "    for row in reader:\n",
        "        if len(row) >= 2:\n",
        "            email_addresses.append(row[1])  # Use the second column\n",
        "\n",
        "# Shuffle the list to send emails in random order\n",
        "random.shuffle(email_addresses)\n",
        "\n",
        "# Create a set to keep track of sent emails\n",
        "sent_emails = set()\n",
        "\n",
        "# Generate a random number of emails to send (e.g., between 1 and 10)\n",
        "num_emails_to_send = random.randint(1, 10)\n",
        "\n",
        "# Send random emails while avoiding duplicates\n",
        "for _ in range(num_emails_to_send):\n",
        "    random_email = random.choice(email_addresses)\n",
        "\n",
        "    # Check if the email has not been sent already\n",
        "    if random_email not in sent_emails:\n",
        "        # Create the personalized email body\n",
        "        personal_body = f\"Dear {first_name},\\n\\n{body}\"\n",
        "\n",
        "        # Create the email\n",
        "        msg = MIMEMultipart()\n",
        "        msg['From'] = username\n",
        "        msg['To'] = random_email\n",
        "        msg['Subject'] = subject\n",
        "\n",
        "        # Attach the body to the email\n",
        "        msg.attach(MIMEText(personal_body, 'plain', 'utf-8'))\n",
        "\n",
        "        # Attach your resume (replace 'resume.pdf' with your actual resume file)\n",
        "        resume_file = '/content/light.avif'\n",
        "        attachment = open(resume_file, 'rb')\n",
        "        part = MIMEBase('application', 'octet-stream')\n",
        "        part.set_payload((attachment).read())\n",
        "        encoders.encode_base64(part)\n",
        "        part.add_header('Content-Disposition', f\"attachment; filename= {resume_file}\")\n",
        "        msg.attach(part)\n",
        "\n",
        "        # Send the email\n",
        "        server.send_message(msg)\n",
        "\n",
        "        # Add the sent email to the set to avoid duplicates\n",
        "        sent_emails.add(random_email)\n",
        "\n",
        "# Close the SMTP server\n",
        "server.quit()"
      ]
    },
    {
      "cell_type": "code",
      "execution_count": null,
      "metadata": {
        "id": "CG4Q3ipOrlIo"
      },
      "outputs": [],
      "source": []
    }
  ],
  "metadata": {
    "colab": {
      "provenance": []
    },
    "kernelspec": {
      "display_name": "Python 3",
      "name": "python3"
    },
    "language_info": {
      "codemirror_mode": {
        "name": "ipython",
        "version": 3
      },
      "file_extension": ".py",
      "mimetype": "text/x-python",
      "name": "python",
      "nbconvert_exporter": "python",
      "pygments_lexer": "ipython3",
      "version": "3.11.4"
    }
  },
  "nbformat": 4,
  "nbformat_minor": 0
}
